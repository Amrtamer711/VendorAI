{
 "cells": [
  {
   "cell_type": "code",
   "execution_count": 3,
   "id": "80e4f7f4",
   "metadata": {},
   "outputs": [],
   "source": [
    "import pandas as pd\n",
    "import sqlite3\n",
    "\n",
    "# Connect to the database\n",
    "conn = sqlite3.connect(\"chat_history.db\")\n",
    "\n",
    "# Read the messages table into a DataFrame\n",
    "df = pd.read_sql_query(\"SELECT * FROM messages\", conn)\n",
    "\n",
    "# Close connection\n",
    "conn.close()\n"
   ]
  },
  {
   "cell_type": "code",
   "execution_count": 4,
   "id": "22bc556a",
   "metadata": {},
   "outputs": [
    {
     "data": {
      "text/html": [
       "<div>\n",
       "<style scoped>\n",
       "    .dataframe tbody tr th:only-of-type {\n",
       "        vertical-align: middle;\n",
       "    }\n",
       "\n",
       "    .dataframe tbody tr th {\n",
       "        vertical-align: top;\n",
       "    }\n",
       "\n",
       "    .dataframe thead th {\n",
       "        text-align: right;\n",
       "    }\n",
       "</style>\n",
       "<table border=\"1\" class=\"dataframe\">\n",
       "  <thead>\n",
       "    <tr style=\"text-align: right;\">\n",
       "      <th></th>\n",
       "      <th>id</th>\n",
       "      <th>user_id</th>\n",
       "      <th>user_name</th>\n",
       "      <th>channel_id</th>\n",
       "      <th>role</th>\n",
       "      <th>message</th>\n",
       "      <th>timestamp</th>\n",
       "    </tr>\n",
       "  </thead>\n",
       "  <tbody>\n",
       "    <tr>\n",
       "      <th>0</th>\n",
       "      <td>1</td>\n",
       "      <td>U093E4CPEE4</td>\n",
       "      <td>Amr Tamer</td>\n",
       "      <td>D093TU811DZ</td>\n",
       "      <td>user</td>\n",
       "      <td>Hi</td>\n",
       "      <td>2025-07-08T09:42:09.459845</td>\n",
       "    </tr>\n",
       "    <tr>\n",
       "      <th>1</th>\n",
       "      <td>2</td>\n",
       "      <td>U093E4CPEE4</td>\n",
       "      <td>Amr Tamer</td>\n",
       "      <td>D093TU811DZ</td>\n",
       "      <td>assistant</td>\n",
       "      <td>Hello Amr! 👋 How can I assist you today?</td>\n",
       "      <td>2025-07-08T09:42:11.494012</td>\n",
       "    </tr>\n",
       "    <tr>\n",
       "      <th>2</th>\n",
       "      <td>3</td>\n",
       "      <td>U093E4CPEE4</td>\n",
       "      <td>Amr Tamer</td>\n",
       "      <td>D093TU811DZ</td>\n",
       "      <td>user</td>\n",
       "      <td>Who are you?</td>\n",
       "      <td>2025-07-08T09:42:25.282967</td>\n",
       "    </tr>\n",
       "    <tr>\n",
       "      <th>3</th>\n",
       "      <td>4</td>\n",
       "      <td>U093E4CPEE4</td>\n",
       "      <td>Amr Tamer</td>\n",
       "      <td>D093TU811DZ</td>\n",
       "      <td>assistant</td>\n",
       "      <td>Hello Amr,  \\nI am the MMG (Multi Media Group)...</td>\n",
       "      <td>2025-07-08T09:42:27.434016</td>\n",
       "    </tr>\n",
       "  </tbody>\n",
       "</table>\n",
       "</div>"
      ],
      "text/plain": [
       "   id      user_id  user_name   channel_id       role  \\\n",
       "0   1  U093E4CPEE4  Amr Tamer  D093TU811DZ       user   \n",
       "1   2  U093E4CPEE4  Amr Tamer  D093TU811DZ  assistant   \n",
       "2   3  U093E4CPEE4  Amr Tamer  D093TU811DZ       user   \n",
       "3   4  U093E4CPEE4  Amr Tamer  D093TU811DZ  assistant   \n",
       "\n",
       "                                             message  \\\n",
       "0                                                 Hi   \n",
       "1           Hello Amr! 👋 How can I assist you today?   \n",
       "2                                       Who are you?   \n",
       "3  Hello Amr,  \\nI am the MMG (Multi Media Group)...   \n",
       "\n",
       "                    timestamp  \n",
       "0  2025-07-08T09:42:09.459845  \n",
       "1  2025-07-08T09:42:11.494012  \n",
       "2  2025-07-08T09:42:25.282967  \n",
       "3  2025-07-08T09:42:27.434016  "
      ]
     },
     "execution_count": 4,
     "metadata": {},
     "output_type": "execute_result"
    }
   ],
   "source": [
    "# Display the first few rows\n",
    "df.head()"
   ]
  },
  {
   "cell_type": "code",
   "execution_count": null,
   "id": "27e4885a",
   "metadata": {},
   "outputs": [],
   "source": []
  }
 ],
 "metadata": {
  "kernelspec": {
   "display_name": "venv",
   "language": "python",
   "name": "python3"
  },
  "language_info": {
   "codemirror_mode": {
    "name": "ipython",
    "version": 3
   },
   "file_extension": ".py",
   "mimetype": "text/x-python",
   "name": "python",
   "nbconvert_exporter": "python",
   "pygments_lexer": "ipython3",
   "version": "3.11.13"
  }
 },
 "nbformat": 4,
 "nbformat_minor": 5
}
